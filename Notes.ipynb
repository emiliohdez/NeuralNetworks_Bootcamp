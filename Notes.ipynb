{
 "cells": [
  {
   "cell_type": "markdown",
   "metadata": {},
   "source": [
    "<h2>The Essence of Neural Networks</h2>\n",
    "\n",
    "<p>Let's consider that we want to predict ($y$) if you're going to fail ($0$) and exam, or approve it ($1$). The inputs are those things that can influence the prediction, and even those that don't, like for instance:</p>\n",
    "\n",
    "<ul>\n",
    "\t<li>How much did you study?  $\\rightarrow x_1$</li>\n",
    "\t<li>How smart are you?  $\\rightarrow x_2$</li>\n",
    "\t<li>You previous knowledge $\\rightarrow x_3$</li>\n",
    "\t<li>Your name $\\rightarrow x_4$</li>\n",
    "</ul>\n",
    "\n",
    "<p>In this case, we can think that $x_1$ has an important influence on the prediction. $x_2$ and $x_3$ can help you in the exam, but are not decisive. Finally, $x_4$ is not important for the prediction. This last observation give us the notion of the importance level or <b>weight</b> of each variable.</p>\n",
    "\n",
    "<p>Now, we have to model an equation in order to get our probability, we can do as follow:</p>\n",
    "\n",
    "$$z = x_1(w_1) + x_2(w_2) + x_3(w_3) + x_4(w_4)$$\n",
    "\n",
    "<p>where each $w_i$ is the weight that we will assign to each variable:</p>\n",
    "<ul>\n",
    "\t<li>$w_1 = 1$ because is decisive for the prediction.</li>\n",
    "\t<li>$w_1 = 0.5$ can probably help.</li>\n",
    "\t<li>$w_1 = 0.2$ can help if you had a similar course.</li>\n",
    "\t<li>$w_4 = 0$ because in fact is not important.</li>\n",
    "</ul>\n",
    "\n",
    "$$z = x_1(1) + x_2(0.5) + x_3(0.2) + x_4(0)$$\n",
    "\n",
    "<p>Once we get $z$, we need a function for modeling that $z$ to our final result ($y$). Like for instance: maybe our $z$ ends with a value of $2.8$ but we need a value in between $0-1$. These kind of functions are called <b>Activation Functions</b> ($f(x)$) and we can model all this system as follow:</p>\n",
    "\n",
    "<img style=\"width: 400px;\" src=\"img/neuron_model.png\"/>\n",
    "\n",
    "<p>We call it a <b>Neuron</b>.</p>"
   ]
  },
  {
   "cell_type": "code",
   "execution_count": null,
   "metadata": {},
   "outputs": [],
   "source": []
  },
  {
   "cell_type": "code",
   "execution_count": null,
   "metadata": {},
   "outputs": [],
   "source": []
  },
  {
   "cell_type": "code",
   "execution_count": null,
   "metadata": {},
   "outputs": [],
   "source": []
  },
  {
   "cell_type": "code",
   "execution_count": null,
   "metadata": {},
   "outputs": [],
   "source": []
  },
  {
   "cell_type": "code",
   "execution_count": null,
   "metadata": {},
   "outputs": [],
   "source": []
  },
  {
   "cell_type": "code",
   "execution_count": null,
   "metadata": {},
   "outputs": [],
   "source": []
  }
 ],
 "metadata": {
  "kernelspec": {
   "display_name": "Julia 1.2.0",
   "language": "julia",
   "name": "julia-1.2"
  },
  "language_info": {
   "file_extension": ".jl",
   "mimetype": "application/julia",
   "name": "julia",
   "version": "1.2.0"
  }
 },
 "nbformat": 4,
 "nbformat_minor": 2
}
